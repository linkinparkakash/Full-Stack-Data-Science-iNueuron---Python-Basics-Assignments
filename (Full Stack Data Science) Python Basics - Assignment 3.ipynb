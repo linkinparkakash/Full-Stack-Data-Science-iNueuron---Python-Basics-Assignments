{
 "cells": [
  {
   "cell_type": "code",
   "execution_count": 1,
   "id": "a0de40d2",
   "metadata": {},
   "outputs": [],
   "source": [
    "# 1. Why are functions advantageous to have in your programs?\n",
    "\n",
    "# Answer\n",
    "\n",
    "# Functions are advantageous to have because the coder can easily manipulate the outcome or the workings of a function\n",
    "    # since the coder himself is defining the function. It can also shorten the code and easy to use and can reduce the \n",
    "    # need of other in-built codes by making several codes into one defined function."
   ]
  },
  {
   "cell_type": "code",
   "execution_count": 2,
   "id": "e2bde24b",
   "metadata": {},
   "outputs": [],
   "source": [
    "# 2. When does the code in a function run: when it's specified or when it's called?\n",
    "\n",
    "# Answer\n",
    "\n",
    "# The function comes into work only when it is called."
   ]
  },
  {
   "cell_type": "code",
   "execution_count": 5,
   "id": "4e3da2db",
   "metadata": {},
   "outputs": [],
   "source": [
    "# 3. What statement creates a function?\n",
    "\n",
    "# Answer\n",
    "\n",
    "# 'def' is written before the variable and ends with a colon and then on next line return or print value is written alongwith\n",
    "    # the desired outcome or operation.\n",
    "# Example:\n",
    "\n",
    "def fun(a,b):\n",
    "    t = (a+b)*b\n",
    "    return t"
   ]
  },
  {
   "cell_type": "code",
   "execution_count": 6,
   "id": "c641a883",
   "metadata": {},
   "outputs": [
    {
     "data": {
      "text/plain": [
       "600"
      ]
     },
     "execution_count": 6,
     "metadata": {},
     "output_type": "execute_result"
    }
   ],
   "source": [
    "# 4. What is the difference between a function and a function call?\n",
    "\n",
    "# Answer\n",
    "\n",
    "# Function is just a set of instruction of a defined body on which the respective operation is to be done.\n",
    "# Function call is when the function actually comes into operation.\n",
    "# Example: (This is a function)\n",
    "\n",
    "def fun(a,b):\n",
    "    t = (a+b)*b\n",
    "    return t\n",
    "# (This is a function call)\n",
    "\n",
    "fun(10,20)\n",
    "\n",
    "# the values 10 and 20 represents the a and b respectively as defined the the function."
   ]
  },
  {
   "cell_type": "code",
   "execution_count": 8,
   "id": "52074b00",
   "metadata": {},
   "outputs": [
    {
     "name": "stdout",
     "output_type": "stream",
     "text": [
      "10\n"
     ]
    }
   ],
   "source": [
    "# 5. How many global scopes are there in a Python program? How many local scopes?\n",
    "\n",
    "# Answer\n",
    "\n",
    "# There is one global score at the beginning of the code and there could be several other local scopes\n",
    "    # after the global scope is declared.\n",
    "    \n",
    "# Example:\n",
    "\n",
    "a = 10    # <- This is a global variable\n",
    "def myfun():\n",
    "    a = 5     # <- Thsi is a local variable\n",
    "print(a)"
   ]
  },
  {
   "cell_type": "code",
   "execution_count": null,
   "id": "084e122b",
   "metadata": {},
   "outputs": [],
   "source": [
    "# 6. What happens to variables in a local scope when the function call returns?\n",
    "\n",
    "# Answer\n",
    "\n",
    "# The 'return' command will only output the global scope and will ignore the local one(s)."
   ]
  },
  {
   "cell_type": "code",
   "execution_count": null,
   "id": "897e96f4",
   "metadata": {},
   "outputs": [],
   "source": [
    "# 7. What is the concept of a return value? Is it possible to have a return value in an expression?\n",
    "\n",
    "# Answer \n",
    "\n",
    "# The return value will output the respective data type which will be used as an input while executing a code.\n",
    "# Yes, the return value can be in an expression.\n"
   ]
  },
  {
   "cell_type": "code",
   "execution_count": null,
   "id": "e387da63",
   "metadata": {},
   "outputs": [],
   "source": [
    "# 8. If a function does not have a return statement, what is the return value of a call to that function?\n",
    "\n",
    "# Asnwer\n",
    "\n",
    "# The return value will be 'None'"
   ]
  },
  {
   "cell_type": "code",
   "execution_count": 9,
   "id": "0ba675cf",
   "metadata": {},
   "outputs": [
    {
     "name": "stdout",
     "output_type": "stream",
     "text": [
      "10\n"
     ]
    }
   ],
   "source": [
    "# 9. How do you make a function variable refer to the global variable?\n",
    "\n",
    "# Answer\n",
    "\n",
    "# A global statement has to be created for this job.\n",
    "\n",
    "# Example:\n",
    "\n",
    "a = 10   # This is a global variable\n",
    "def myfun():\n",
    "    a = 5\n",
    "print(a)"
   ]
  },
  {
   "cell_type": "code",
   "execution_count": null,
   "id": "f9c3d25a",
   "metadata": {},
   "outputs": [],
   "source": [
    "# 10. What is the data type of None?\n",
    "\n",
    "# Answer\n",
    "\n",
    "# The datatype of none is called 'NoneType'"
   ]
  },
  {
   "cell_type": "code",
   "execution_count": 16,
   "id": "e1e6cb17",
   "metadata": {},
   "outputs": [
    {
     "ename": "ModuleNotFoundError",
     "evalue": "No module named 'areallyourpetsnamederic'",
     "output_type": "error",
     "traceback": [
      "\u001b[1;31m---------------------------------------------------------------------------\u001b[0m",
      "\u001b[1;31mModuleNotFoundError\u001b[0m                       Traceback (most recent call last)",
      "\u001b[1;32m~\\AppData\\Local\\Temp/ipykernel_1652/4107619408.py\u001b[0m in \u001b[0;36m<module>\u001b[1;34m\u001b[0m\n\u001b[0;32m      3\u001b[0m \u001b[1;31m# Answer\u001b[0m\u001b[1;33m\u001b[0m\u001b[1;33m\u001b[0m\u001b[0m\n\u001b[0;32m      4\u001b[0m \u001b[1;33m\u001b[0m\u001b[0m\n\u001b[1;32m----> 5\u001b[1;33m \u001b[1;32mimport\u001b[0m \u001b[0mareallyourpetsnamederic\u001b[0m\u001b[1;33m\u001b[0m\u001b[1;33m\u001b[0m\u001b[0m\n\u001b[0m\u001b[0;32m      6\u001b[0m \u001b[1;33m\u001b[0m\u001b[0m\n\u001b[0;32m      7\u001b[0m \u001b[1;31m# It showed the 'ModuleNotFoundError' error while trying to import it.\u001b[0m\u001b[1;33m\u001b[0m\u001b[1;33m\u001b[0m\u001b[0m\n",
      "\u001b[1;31mModuleNotFoundError\u001b[0m: No module named 'areallyourpetsnamederic'"
     ]
    }
   ],
   "source": [
    "# 11. What does the sentence import areallyourpetsnamederic do?\n",
    "\n",
    "# Answer\n",
    "\n",
    "import areallyourpetsnamederic\n",
    "\n",
    "# It showed the 'ModuleNotFoundError' error while trying to import it.  "
   ]
  },
  {
   "cell_type": "code",
   "execution_count": 17,
   "id": "87c8b654",
   "metadata": {},
   "outputs": [
    {
     "ename": "NameError",
     "evalue": "name 'spam' is not defined",
     "output_type": "error",
     "traceback": [
      "\u001b[1;31m---------------------------------------------------------------------------\u001b[0m",
      "\u001b[1;31mNameError\u001b[0m                                 Traceback (most recent call last)",
      "\u001b[1;32m~\\AppData\\Local\\Temp/ipykernel_1652/2298078067.py\u001b[0m in \u001b[0;36m<module>\u001b[1;34m\u001b[0m\n\u001b[0;32m      5\u001b[0m \u001b[1;31m# The function can be caled with this syntax:\u001b[0m\u001b[1;33m\u001b[0m\u001b[1;33m\u001b[0m\u001b[0m\n\u001b[0;32m      6\u001b[0m \u001b[1;33m\u001b[0m\u001b[0m\n\u001b[1;32m----> 7\u001b[1;33m \u001b[0mspam\u001b[0m\u001b[1;33m.\u001b[0m\u001b[0mbacon\u001b[0m\u001b[1;33m(\u001b[0m\u001b[1;33m)\u001b[0m\u001b[1;33m\u001b[0m\u001b[1;33m\u001b[0m\u001b[0m\n\u001b[0m",
      "\u001b[1;31mNameError\u001b[0m: name 'spam' is not defined"
     ]
    }
   ],
   "source": [
    "# 12. If you had a bacon() feature in a spam module, what would you call it after importing spam?\n",
    "\n",
    "# Answer\n",
    "\n",
    "# The function can be caled with this syntax:\n",
    "\n",
    "spam.bacon()"
   ]
  },
  {
   "cell_type": "code",
   "execution_count": 18,
   "id": "84cad257",
   "metadata": {},
   "outputs": [
    {
     "name": "stdout",
     "output_type": "stream",
     "text": [
      "Looking for an error\n"
     ]
    }
   ],
   "source": [
    "# 13. What can you do to save a programme from crashing if it encounters an error?\n",
    "\n",
    "# Answer\n",
    "\n",
    "# We can put it to a 'Try' clause.\n",
    "\n",
    "# Example:\n",
    "\n",
    "try:\n",
    "  print(abc)\n",
    "except:\n",
    "  print(\"Looking for an error\")"
   ]
  },
  {
   "cell_type": "code",
   "execution_count": null,
   "id": "d51d0fb6",
   "metadata": {},
   "outputs": [],
   "source": [
    "# 14. What is the purpose of the try clause? What is the purpose of the except clause?\n",
    "\n",
    "# Answer\n",
    "\n",
    "# The try clause is used for the block which may clause an error.\n",
    "# The error line of code will go into the 'except' caluse after getting an error."
   ]
  }
 ],
 "metadata": {
  "kernelspec": {
   "display_name": "Python 3 (ipykernel)",
   "language": "python",
   "name": "python3"
  },
  "language_info": {
   "codemirror_mode": {
    "name": "ipython",
    "version": 3
   },
   "file_extension": ".py",
   "mimetype": "text/x-python",
   "name": "python",
   "nbconvert_exporter": "python",
   "pygments_lexer": "ipython3",
   "version": "3.9.7"
  }
 },
 "nbformat": 4,
 "nbformat_minor": 5
}
