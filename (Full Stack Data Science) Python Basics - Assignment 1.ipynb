{
 "cells": [
  {
   "cell_type": "code",
   "execution_count": 2,
   "id": "1dc9b783",
   "metadata": {},
   "outputs": [],
   "source": [
    "#1. In the below elements which of them are values or an expression?\n",
    "\n",
    "# Answer\n",
    "# * -> operator\n",
    "# 'hello' -> string\n",
    "# - -> operator\n",
    "# / -> operator\n",
    "# + -> operator\n",
    "# 6 -> integer"
   ]
  },
  {
   "cell_type": "code",
   "execution_count": 3,
   "id": "2dc89362",
   "metadata": {},
   "outputs": [],
   "source": [
    "#2. What is the difference between string and variable?\n",
    "\n",
    "# Answer\n",
    "# String is the information which is held under a variable whereas a variable is a kind of memory location that stores various kinds of value in it.\n",
    "# Example- s = \"My name is Akash\"\n",
    "  # In this example, s is the variable and \"My name is Akash\" is the string.\n",
    "# Example 2- s = 546\n",
    "  # Here the variable s is holding a integer value, so a variable can contain values like string, integer, float, boolean etc but string cannot contain variable in it.\n",
    "\n"
   ]
  },
  {
   "cell_type": "code",
   "execution_count": 4,
   "id": "44740b5c",
   "metadata": {},
   "outputs": [],
   "source": [
    "# 3. Describe three different data types.\n",
    "\n",
    "# Answer \n",
    "# (a) Integer -> An integer is a data type that holds numeric values. Positive, negative and zero but cannot contain deccimals or fraction values.\n",
    "    # Eg. 45, 44, -78, 3 etc.\n",
    "# (b) String -> A string is a data type that stores anythin within single quotes or double quotes because it simply prints whatever is written under it.\n",
    "    # Eg. \"This is a python program\", '234', 'Dogcat5456'\n",
    "# (c) Boolean -> It stores numbers with decimals.\n",
    "    # Eg. 546.88, 548.5854 etc."
   ]
  },
  {
   "cell_type": "code",
   "execution_count": 2,
   "id": "728cd91d",
   "metadata": {},
   "outputs": [
    {
     "name": "stdout",
     "output_type": "stream",
     "text": [
      "13\n"
     ]
    }
   ],
   "source": [
    "# 4. What is an expression made up of? What do all expressions do?\n",
    "\n",
    "# Answer\n",
    "# An expression is made up of operators and the values or strings where operations are to be done.\n",
    "# Eg. (5+8) is an expression, '+' is a arithmetic operation that will give the result by adding the operands.\n",
    "print (5+8)"
   ]
  },
  {
   "cell_type": "code",
   "execution_count": 3,
   "id": "03bcb3fc",
   "metadata": {},
   "outputs": [],
   "source": [
    "# Expressions perform any kind of functions that are assigned to it in the form of operations.\n",
    "# Eg. +, -, /, * these are some examples of arithmatic operations."
   ]
  },
  {
   "cell_type": "code",
   "execution_count": 4,
   "id": "7bfc0b00",
   "metadata": {},
   "outputs": [],
   "source": [
    "# 5. This assignment statements, like spam = 10. What is the difference between an expression and a statement?\n",
    "\n",
    "# Answer\n",
    "spam = 10\n",
    "# This is a statement as there is only a vairable 'spam' holds the value of '10', an integer.\n",
    "# Since there is no operator with this value no operation can be done on this statement alone.\n",
    "# When a variable simply holds certain value whether it is a string, integer, float etc. anything, that's called a statement.\n",
    "# On the other hand, an expression needs some kind of defined operation with the statement.\n",
    "# Eg. spam = (10+25)\n",
    "    # This is an example of an expression."
   ]
  },
  {
   "cell_type": "code",
   "execution_count": 6,
   "id": "cccf82c7",
   "metadata": {},
   "outputs": [
    {
     "data": {
      "text/plain": [
       "23"
      ]
     },
     "execution_count": 6,
     "metadata": {},
     "output_type": "execute_result"
    }
   ],
   "source": [
    "#6. After running the following code, what does the variable bacon contain?\n",
    "#bacon = 22\n",
    "#bacon + 1\n",
    "\n",
    "# Answer\n",
    "bacon = 22\n",
    "bacon +1\n"
   ]
  },
  {
   "cell_type": "code",
   "execution_count": 7,
   "id": "bde77c10",
   "metadata": {},
   "outputs": [],
   "source": [
    "# The variable bacon contains 22 integer value and the next statement simply added +1 in it hence the output added 22+1=23."
   ]
  },
  {
   "cell_type": "code",
   "execution_count": 9,
   "id": "703d103b",
   "metadata": {},
   "outputs": [
    {
     "data": {
      "text/plain": [
       "'spamspamspam'"
      ]
     },
     "execution_count": 9,
     "metadata": {},
     "output_type": "execute_result"
    }
   ],
   "source": [
    "#7. What should the values of the following two terms be?\n",
    "# 'spam'+'spamspam'\n",
    "\n",
    "# Answer\n",
    "'spam'+'spamspam'"
   ]
  },
  {
   "cell_type": "code",
   "execution_count": 11,
   "id": "3c7953f9",
   "metadata": {},
   "outputs": [
    {
     "data": {
      "text/plain": [
       "'spamspamspam'"
      ]
     },
     "execution_count": 11,
     "metadata": {},
     "output_type": "execute_result"
    }
   ],
   "source": [
    "# 'spam'*3\n",
    "\n",
    "'spam'*3"
   ]
  },
  {
   "cell_type": "code",
   "execution_count": 12,
   "id": "92653935",
   "metadata": {},
   "outputs": [],
   "source": [
    "# The output was same in both cases, as basically adding 'spam' with 'spamspam' or multyplying 'spam' 3 times is the same thing."
   ]
  },
  {
   "cell_type": "code",
   "execution_count": 13,
   "id": "f226f499",
   "metadata": {},
   "outputs": [
    {
     "ename": "SyntaxError",
     "evalue": "cannot assign to literal (Temp/ipykernel_4228/3380782050.py, line 4)",
     "output_type": "error",
     "traceback": [
      "\u001b[1;36m  File \u001b[1;32m\"C:\\Users\\HP\\AppData\\Local\\Temp/ipykernel_4228/3380782050.py\"\u001b[1;36m, line \u001b[1;32m4\u001b[0m\n\u001b[1;33m    100 = \"Cat\"\u001b[0m\n\u001b[1;37m    ^\u001b[0m\n\u001b[1;31mSyntaxError\u001b[0m\u001b[1;31m:\u001b[0m cannot assign to literal\n"
     ]
    }
   ],
   "source": [
    "# 8. Why is eggs a valid variable name while 100 is invalid?\n",
    "\n",
    "# Answer\n",
    "100 = \"Cat\"\n",
    "eggs = \"Cat\"\n",
    "# As '100' is an integer value and is an invalid variable name. \n",
    "# The compiler gets confused if it's a number or identifier that's why an integer or any numerical value cannot be a variable.\n",
    "# 'eggs' is a valid variable name because it comprises of only alphabets. \n",
    "# A variable cannot be a pure numerical or start with a numerical value.\n",
    "# '100' is a literal."
   ]
  },
  {
   "cell_type": "code",
   "execution_count": 15,
   "id": "79c020d3",
   "metadata": {},
   "outputs": [
    {
     "data": {
      "text/plain": [
       "234"
      ]
     },
     "execution_count": 15,
     "metadata": {},
     "output_type": "execute_result"
    }
   ],
   "source": [
    "# 9. What three functions can be used to get the integer, floating-point number, or string version of a value?\n",
    "\n",
    "# Answer\n",
    "dog = \"234\"\n",
    "# This is a string and to convert it into an integer:-\n",
    "int(dog)"
   ]
  },
  {
   "cell_type": "code",
   "execution_count": 18,
   "id": "e17d075a",
   "metadata": {},
   "outputs": [
    {
     "data": {
      "text/plain": [
       "int"
      ]
     },
     "execution_count": 18,
     "metadata": {},
     "output_type": "execute_result"
    }
   ],
   "source": [
    "# Although, if we simply print the above statement, the output still be the same as '234' is an integer written under double qoutes making it a string.\n",
    "# To check if this is an integer or string, 'type' function can be used.\n",
    "type(int(dog))"
   ]
  },
  {
   "cell_type": "code",
   "execution_count": 25,
   "id": "0c6e9061",
   "metadata": {},
   "outputs": [
    {
     "data": {
      "text/plain": [
       "324.0"
      ]
     },
     "execution_count": 25,
     "metadata": {},
     "output_type": "execute_result"
    }
   ],
   "source": [
    "# To convert it into float:-\n",
    "dog = 324\n",
    "float(dog)"
   ]
  },
  {
   "cell_type": "code",
   "execution_count": 27,
   "id": "a9c0e6df",
   "metadata": {},
   "outputs": [
    {
     "data": {
      "text/plain": [
       "int"
      ]
     },
     "execution_count": 27,
     "metadata": {},
     "output_type": "execute_result"
    }
   ],
   "source": [
    "# To convert an integer into string\n",
    "cat = 486\n",
    "type(cat)"
   ]
  },
  {
   "cell_type": "code",
   "execution_count": 29,
   "id": "ce57fa44",
   "metadata": {},
   "outputs": [
    {
     "data": {
      "text/plain": [
       "'486'"
      ]
     },
     "execution_count": 29,
     "metadata": {},
     "output_type": "execute_result"
    }
   ],
   "source": [
    "str(cat)"
   ]
  },
  {
   "cell_type": "code",
   "execution_count": 31,
   "id": "0365a25c",
   "metadata": {},
   "outputs": [
    {
     "data": {
      "text/plain": [
       "str"
      ]
     },
     "execution_count": 31,
     "metadata": {},
     "output_type": "execute_result"
    }
   ],
   "source": [
    "type(str(cat))"
   ]
  },
  {
   "cell_type": "code",
   "execution_count": 33,
   "id": "303de0fc",
   "metadata": {},
   "outputs": [
    {
     "ename": "TypeError",
     "evalue": "can only concatenate str (not \"int\") to str",
     "output_type": "error",
     "traceback": [
      "\u001b[1;31m---------------------------------------------------------------------------\u001b[0m",
      "\u001b[1;31mTypeError\u001b[0m                                 Traceback (most recent call last)",
      "\u001b[1;32m~\\AppData\\Local\\Temp/ipykernel_4228/3147978435.py\u001b[0m in \u001b[0;36m<module>\u001b[1;34m\u001b[0m\n\u001b[0;32m      3\u001b[0m \u001b[1;33m\u001b[0m\u001b[0m\n\u001b[0;32m      4\u001b[0m \u001b[1;31m# Answer\u001b[0m\u001b[1;33m\u001b[0m\u001b[1;33m\u001b[0m\u001b[0m\n\u001b[1;32m----> 5\u001b[1;33m \u001b[1;34m'I have eaten'\u001b[0m \u001b[1;33m+\u001b[0m\u001b[1;36m99\u001b[0m\u001b[1;33m+\u001b[0m \u001b[1;34m'burritos.'\u001b[0m\u001b[1;33m\u001b[0m\u001b[1;33m\u001b[0m\u001b[0m\n\u001b[0m",
      "\u001b[1;31mTypeError\u001b[0m: can only concatenate str (not \"int\") to str"
     ]
    }
   ],
   "source": [
    "# 10. Why does this expression cause an error? How can you fix it?\n",
    "# 'I have eaten' +99+ 'burritos.'\n",
    "\n",
    "# Answer\n",
    "'I have eaten' +99+ 'burritos.'"
   ]
  },
  {
   "cell_type": "code",
   "execution_count": 35,
   "id": "85201580",
   "metadata": {},
   "outputs": [
    {
     "data": {
      "text/plain": [
       "'I have eaten 99 burritos'"
      ]
     },
     "execution_count": 35,
     "metadata": {},
     "output_type": "execute_result"
    }
   ],
   "source": [
    "# As the single quotes are only covering certain parts of the string.\n",
    "# To fix this,\n",
    "\n",
    "'I have eaten '+str(99)+' burritos'"
   ]
  },
  {
   "cell_type": "code",
   "execution_count": null,
   "id": "24883074",
   "metadata": {},
   "outputs": [],
   "source": [
    "# As 99 was an integer value, I had to convert it into an integer value and added single quotes at the right places."
   ]
  }
 ],
 "metadata": {
  "kernelspec": {
   "display_name": "Python 3 (ipykernel)",
   "language": "python",
   "name": "python3"
  },
  "language_info": {
   "codemirror_mode": {
    "name": "ipython",
    "version": 3
   },
   "file_extension": ".py",
   "mimetype": "text/x-python",
   "name": "python",
   "nbconvert_exporter": "python",
   "pygments_lexer": "ipython3",
   "version": "3.9.7"
  }
 },
 "nbformat": 4,
 "nbformat_minor": 5
}
