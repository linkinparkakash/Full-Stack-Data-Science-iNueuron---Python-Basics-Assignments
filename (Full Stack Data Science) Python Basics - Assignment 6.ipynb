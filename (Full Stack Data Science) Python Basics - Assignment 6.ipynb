{
 "cells": [
  {
   "cell_type": "code",
   "execution_count": 17,
   "id": "ff473fa8",
   "metadata": {},
   "outputs": [
    {
     "name": "stdout",
     "output_type": "stream",
     "text": [
      "it's going to be a good day\n"
     ]
    }
   ],
   "source": [
    "# 1. What are escape characters, and how do you use them?\n",
    "\n",
    "# Answer\n",
    "\n",
    "# Escape characters are those characters which are written alongwith a backslash(\\), there are various kinds of escape characters\n",
    "    # like \\n, \\', \\r etc. They can make certain things possible which cannot be done by normal means.\n",
    "\n",
    "# Example:\n",
    "\n",
    "# \\'\n",
    "\n",
    "# We cannot print a string with quotes inside usually, but we can use escape charater to add single quote.\n",
    "   \n",
    "s1 = 'it\\'s going to be a good day'\n",
    "print(s1)"
   ]
  },
  {
   "cell_type": "code",
   "execution_count": 23,
   "id": "b53a1000",
   "metadata": {},
   "outputs": [
    {
     "name": "stdout",
     "output_type": "stream",
     "text": [
      "this\n",
      "is\n",
      "good\n"
     ]
    }
   ],
   "source": [
    "# 2. What do the escape characters n and t stand for?\n",
    "\n",
    "# Answer\n",
    "\n",
    "# Escape character \\n creates a new line and \\t creates a tab between texts.\n",
    "\n",
    "# Example\n",
    "\n",
    "print(\"this\\nis\\ngood\")"
   ]
  },
  {
   "cell_type": "code",
   "execution_count": 27,
   "id": "2476ebf6",
   "metadata": {},
   "outputs": [
    {
     "data": {
      "text/plain": [
       "'this is a python\\\\program'"
      ]
     },
     "execution_count": 27,
     "metadata": {},
     "output_type": "execute_result"
    }
   ],
   "source": [
    "# 3. What is the way to include backslash characters in a string?\n",
    "\n",
    "# Answer\n",
    "\n",
    "# It can be done bu using r\"\\\" to treat backslash (\\) as a literal character, not as an escape character.\n",
    "\n",
    "t = r\"this is a python\\program\"\n",
    "t"
   ]
  },
  {
   "cell_type": "code",
   "execution_count": 28,
   "id": "4f991d03",
   "metadata": {},
   "outputs": [
    {
     "data": {
      "text/plain": [
       "\"Howl's Moving Castle\""
      ]
     },
     "execution_count": 28,
     "metadata": {},
     "output_type": "execute_result"
    }
   ],
   "source": [
    "# 4. The string \"Howl's Moving Castle\" is a correct value. Why isn't the single quote character in the word Howl's not escaped a problem?\n",
    "\n",
    "# Answer \n",
    "\n",
    "# Because double quotes are used to mark the beginning and the end of the string.\n",
    "\n",
    "t1 = \"Howl's Moving Castle\"\n",
    "t1"
   ]
  },
  {
   "cell_type": "code",
   "execution_count": 39,
   "id": "9909d65e",
   "metadata": {},
   "outputs": [
    {
     "name": "stdout",
     "output_type": "stream",
     "text": [
      "\" \n",
      "          this\n",
      "          is\n",
      "          a \n",
      "          python\n",
      "          program\n",
      "                  \n"
     ]
    }
   ],
   "source": [
    "# 5. How do you write a string of newlines if you don't want to use the n character?\n",
    "\n",
    "# Answer\n",
    "\n",
    "t2 = \"\"\"\" \n",
    "          this\n",
    "          is\n",
    "          a \n",
    "          python\n",
    "          program\n",
    "                  \"\"\"\n",
    "# We can use triple double quotes or triple single quotes and wrtite the string in different lines as per required.     "
   ]
  },
  {
   "cell_type": "code",
   "execution_count": 40,
   "id": "a5f03d7b",
   "metadata": {},
   "outputs": [
    {
     "data": {
      "text/plain": [
       "'e'"
      ]
     },
     "execution_count": 40,
     "metadata": {},
     "output_type": "execute_result"
    }
   ],
   "source": [
    "# 6. What are the values of the given expressions?\n",
    "\n",
    "'Hello, world'[1]\n"
   ]
  },
  {
   "cell_type": "code",
   "execution_count": 41,
   "id": "cb536e45",
   "metadata": {},
   "outputs": [
    {
     "data": {
      "text/plain": [
       "'Hello'"
      ]
     },
     "execution_count": 41,
     "metadata": {},
     "output_type": "execute_result"
    }
   ],
   "source": [
    "'Hello, world!'[0:5]"
   ]
  },
  {
   "cell_type": "code",
   "execution_count": 42,
   "id": "0228e5f6",
   "metadata": {},
   "outputs": [
    {
     "data": {
      "text/plain": [
       "'Hello'"
      ]
     },
     "execution_count": 42,
     "metadata": {},
     "output_type": "execute_result"
    }
   ],
   "source": [
    "'Hello, world!'[:5]"
   ]
  },
  {
   "cell_type": "code",
   "execution_count": 43,
   "id": "3994e810",
   "metadata": {},
   "outputs": [
    {
     "data": {
      "text/plain": [
       "'lo, world!'"
      ]
     },
     "execution_count": 43,
     "metadata": {},
     "output_type": "execute_result"
    }
   ],
   "source": [
    "'Hello, world!'[3:]"
   ]
  },
  {
   "cell_type": "code",
   "execution_count": 44,
   "id": "e584b608",
   "metadata": {},
   "outputs": [
    {
     "data": {
      "text/plain": [
       "'HELLO'"
      ]
     },
     "execution_count": 44,
     "metadata": {},
     "output_type": "execute_result"
    }
   ],
   "source": [
    "# 7. What are the values of the following expressions?\n",
    "\n",
    "# Answer\n",
    "\n",
    "'Hello'.upper()\n",
    "\n"
   ]
  },
  {
   "cell_type": "code",
   "execution_count": 45,
   "id": "a35b4e1e",
   "metadata": {},
   "outputs": [
    {
     "data": {
      "text/plain": [
       "True"
      ]
     },
     "execution_count": 45,
     "metadata": {},
     "output_type": "execute_result"
    }
   ],
   "source": [
    "'Hello'.upper().isupper()"
   ]
  },
  {
   "cell_type": "code",
   "execution_count": 46,
   "id": "435f771c",
   "metadata": {},
   "outputs": [
    {
     "data": {
      "text/plain": [
       "'hello'"
      ]
     },
     "execution_count": 46,
     "metadata": {},
     "output_type": "execute_result"
    }
   ],
   "source": [
    "'Hello'.upper().lower()"
   ]
  },
  {
   "cell_type": "code",
   "execution_count": 47,
   "id": "708a24e4",
   "metadata": {},
   "outputs": [
    {
     "data": {
      "text/plain": [
       "'There-can-only-one.'"
      ]
     },
     "execution_count": 47,
     "metadata": {},
     "output_type": "execute_result"
    }
   ],
   "source": [
    "# 8. What are the values of the following expressions?\n",
    "\n",
    "# Answer\n",
    "\n",
    "'Remember, remember, the fifth of July.'.split()\n",
    "'-'.join('There can only one.'.split())"
   ]
  },
  {
   "cell_type": "code",
   "execution_count": 56,
   "id": "a391ab63",
   "metadata": {},
   "outputs": [
    {
     "data": {
      "text/plain": [
       "'wwwwwI am a learner at iNeuron'"
      ]
     },
     "execution_count": 56,
     "metadata": {},
     "output_type": "execute_result"
    }
   ],
   "source": [
    "# 9. What are the methods for right-justifying, left-justifying, and centering a string?\n",
    "\n",
    "# Answer\n",
    "\n",
    "# rjust() inside the parenthesis takes length of the string then a coma and a string with which the length is to be occupied\n",
    "    # it will print the string in which the operation is being applied and will fill the RIGHT side of the rest of the length \n",
    "    # with the string written inside the operation.\n",
    "# ljust() does the same this as rjust() but it fills the space on the left side.\n",
    "# center() will put the string in center and will fill the space with on both the sides that is specified in the operation.\n",
    "\n",
    "# Example\n",
    "# rjust()\n",
    "\n",
    "s2 = 'I am a learner at iNeuron'\n",
    "s3 = s2.rjust(30,'w')\n",
    "s3\n"
   ]
  },
  {
   "cell_type": "code",
   "execution_count": 57,
   "id": "ce6f8139",
   "metadata": {},
   "outputs": [
    {
     "data": {
      "text/plain": [
       "'I am a learner at iNeuronwwwww'"
      ]
     },
     "execution_count": 57,
     "metadata": {},
     "output_type": "execute_result"
    }
   ],
   "source": [
    "# ljust()\n",
    "\n",
    "s4 = s2.ljust(30,'w')\n",
    "s4"
   ]
  },
  {
   "cell_type": "code",
   "execution_count": 58,
   "id": "383c1d18",
   "metadata": {},
   "outputs": [
    {
     "data": {
      "text/plain": [
       "'wwI am a learner at iNeuronwww'"
      ]
     },
     "execution_count": 58,
     "metadata": {},
     "output_type": "execute_result"
    }
   ],
   "source": [
    "# center()\n",
    "\n",
    "s5 = s2.center(30,'w')\n",
    "s5"
   ]
  },
  {
   "cell_type": "code",
   "execution_count": 67,
   "id": "8d5c7622",
   "metadata": {},
   "outputs": [
    {
     "data": {
      "text/plain": [
       "'FSDS bootcamp'"
      ]
     },
     "execution_count": 67,
     "metadata": {},
     "output_type": "execute_result"
    }
   ],
   "source": [
    "# 10. What is the best way to remove whitespace characters from the start or end?\n",
    "\n",
    "# Answer\n",
    "\n",
    "# lstrip() and rstrip() can be used to strip the spaces from both the sides of the string and strip() trims the spaces.\n",
    "    # from both of the sides.\n",
    "\n",
    "# Example\n",
    "\n",
    "s6 = '         FSDS bootcamp           '\n",
    "s6.strip()"
   ]
  }
 ],
 "metadata": {
  "kernelspec": {
   "display_name": "Python 3 (ipykernel)",
   "language": "python",
   "name": "python3"
  },
  "language_info": {
   "codemirror_mode": {
    "name": "ipython",
    "version": 3
   },
   "file_extension": ".py",
   "mimetype": "text/x-python",
   "name": "python",
   "nbconvert_exporter": "python",
   "pygments_lexer": "ipython3",
   "version": "3.9.7"
  }
 },
 "nbformat": 4,
 "nbformat_minor": 5
}
