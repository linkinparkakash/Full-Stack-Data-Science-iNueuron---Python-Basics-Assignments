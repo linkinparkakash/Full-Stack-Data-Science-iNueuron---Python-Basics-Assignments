{
 "cells": [
  {
   "cell_type": "code",
   "execution_count": 71,
   "id": "b959b564",
   "metadata": {},
   "outputs": [
    {
     "data": {
      "text/plain": [
       "True"
      ]
     },
     "execution_count": 71,
     "metadata": {},
     "output_type": "execute_result"
    }
   ],
   "source": [
    "# 1. What are the two values of the Boolean data type? How do you write them?\n",
    "\n",
    "# Answer\n",
    "# Boolean has two posible value, that is True and False, a statement can be either true or false.\n",
    "# Example :-\n",
    "\n",
    "a = 45\n",
    "b = 56\n",
    "a<b"
   ]
  },
  {
   "cell_type": "code",
   "execution_count": 63,
   "id": "3fa20cc8",
   "metadata": {},
   "outputs": [],
   "source": [
    "# 2. What are the three different types of Boolean operators?\n",
    "\n",
    "# Answer\n",
    "# There are three types of boolean operators.\n",
    "# That are -> AND, OR, NOT(!).\n",
    "# AND - It searches all such items and returns only if all the values are true. If a program searches for 34 AND 44 AND 32,\n",
    "    # it will only return True if all these three values are present in the statement."
   ]
  },
  {
   "cell_type": "code",
   "execution_count": 67,
   "id": "5477b023",
   "metadata": {},
   "outputs": [
    {
     "data": {
      "text/plain": [
       "True"
      ]
     },
     "execution_count": 67,
     "metadata": {},
     "output_type": "execute_result"
    }
   ],
   "source": [
    "# OR - This operator will return either of the values asked for.\n",
    "\n",
    "(5>4) or (3==5) "
   ]
  },
  {
   "cell_type": "code",
   "execution_count": 69,
   "id": "826dde96",
   "metadata": {},
   "outputs": [
    {
     "data": {
      "text/plain": [
       "False"
      ]
     },
     "execution_count": 69,
     "metadata": {},
     "output_type": "execute_result"
    }
   ],
   "source": [
    "# NOT - It will look for the values which are not present there in the list. It is written with exclamation mark (!)\n",
    "\n",
    "not (5 > 4)"
   ]
  },
  {
   "cell_type": "code",
   "execution_count": null,
   "id": "525429c1",
   "metadata": {},
   "outputs": [],
   "source": [
    "# 3. Make a list of each Boolean operator's truth tables (i.e. every possible combination of Boolean values for the operator and what it evaluate).\n",
    "# Answer\n",
    "\n",
    "# a : b = a+b\n",
    "# 0 : 0 = 0\n",
    "# 1 : 0 = 1\n",
    "# 0 : 1 = 1\n",
    "# 1 : 1 = 2\n",
    "\n",
    "\n",
    "# a : b : a*b\n",
    "# 0 : 0 = 0\n",
    "# 1 : 0 = 0\n",
    "# 0 : 1 = 0\n",
    "# 1 : 1 = 1\n",
    "\n",
    "# a : b -> or b\n",
    "# True : False -> True\n",
    "# Flase : True -> True\n",
    "# False: False -> False\n",
    "# True : True -> True\n",
    "\n",
    "# a : b -> a and b\n",
    "# True : False -> False\n",
    "# False : True -> False\n",
    "# True : True -> True\n",
    "# Flase : False -> False"
   ]
  },
  {
   "cell_type": "code",
   "execution_count": 56,
   "id": "f3f2fa72",
   "metadata": {},
   "outputs": [
    {
     "data": {
      "text/plain": [
       "False"
      ]
     },
     "execution_count": 56,
     "metadata": {},
     "output_type": "execute_result"
    }
   ],
   "source": [
    "# 4. What are the values of the following expressions?\n",
    "\n",
    "(5>4) and (3==5)"
   ]
  },
  {
   "cell_type": "code",
   "execution_count": 57,
   "id": "04ff10c4",
   "metadata": {},
   "outputs": [
    {
     "data": {
      "text/plain": [
       "False"
      ]
     },
     "execution_count": 57,
     "metadata": {},
     "output_type": "execute_result"
    }
   ],
   "source": [
    "not (5>4)"
   ]
  },
  {
   "cell_type": "code",
   "execution_count": 58,
   "id": "1e055e5f",
   "metadata": {},
   "outputs": [
    {
     "data": {
      "text/plain": [
       "True"
      ]
     },
     "execution_count": 58,
     "metadata": {},
     "output_type": "execute_result"
    }
   ],
   "source": [
    "(5>4) or (3==5)"
   ]
  },
  {
   "cell_type": "code",
   "execution_count": 59,
   "id": "137ed4b0",
   "metadata": {},
   "outputs": [
    {
     "data": {
      "text/plain": [
       "False"
      ]
     },
     "execution_count": 59,
     "metadata": {},
     "output_type": "execute_result"
    }
   ],
   "source": [
    "not ((5>4) or (3==5))"
   ]
  },
  {
   "cell_type": "code",
   "execution_count": 60,
   "id": "386c0e58",
   "metadata": {},
   "outputs": [
    {
     "data": {
      "text/plain": [
       "False"
      ]
     },
     "execution_count": 60,
     "metadata": {},
     "output_type": "execute_result"
    }
   ],
   "source": [
    "(True and True) and (True==False)"
   ]
  },
  {
   "cell_type": "code",
   "execution_count": 61,
   "id": "d70ac688",
   "metadata": {},
   "outputs": [
    {
     "data": {
      "text/plain": [
       "True"
      ]
     },
     "execution_count": 61,
     "metadata": {},
     "output_type": "execute_result"
    }
   ],
   "source": [
    "(not False) or (not True)"
   ]
  },
  {
   "cell_type": "code",
   "execution_count": null,
   "id": "8aa58895",
   "metadata": {},
   "outputs": [],
   "source": [
    "# 5. What are the six comparison operators?\n",
    "\n",
    "# Answer \n",
    "# The six comparison operators are \n",
    "    # == : Equal to\n",
    "    # < : Less than\n",
    "    # > : Greater than\n",
    "    # <= : Less than equal to\n",
    "    # >= : Greater than equal to\n",
    "    # != : Not equal to"
   ]
  },
  {
   "cell_type": "code",
   "execution_count": null,
   "id": "3c4ce6ad",
   "metadata": {},
   "outputs": [],
   "source": [
    "# 6. How do you tell the difference between the equal to and assignment operators?Describe a condition and when you would use one.\n",
    "\n",
    "# Answer\n",
    "# An assignment operator is used for assigning a particular value to a variable.\n",
    "# Whereas a comparison operator is used to compare values or varianle having numerical values.\n",
    "\n",
    "# Example:\n",
    "q = 34\n",
    "    # Here the variable q holds the value of 34, this is an assignment operator.\n",
    "44 == 44\n",
    "    # This is a comparison operator since it is making a comparison between two numbers."
   ]
  },
  {
   "cell_type": "code",
   "execution_count": 72,
   "id": "3ff7b306",
   "metadata": {},
   "outputs": [
    {
     "data": {
      "text/plain": [
       "True"
      ]
     },
     "execution_count": 72,
     "metadata": {},
     "output_type": "execute_result"
    }
   ],
   "source": [
    "# This is a comparison operator since it will reaturn the value in boolean.\n",
    "44==44"
   ]
  },
  {
   "cell_type": "code",
   "execution_count": 73,
   "id": "1c061eac",
   "metadata": {},
   "outputs": [
    {
     "data": {
      "text/plain": [
       "34"
      ]
     },
     "execution_count": 73,
     "metadata": {},
     "output_type": "execute_result"
    }
   ],
   "source": [
    "# This is an assignment operator which assigns value to the variable and will return the value if we print the variable.\n",
    "q = 34\n",
    "q"
   ]
  },
  {
   "cell_type": "code",
   "execution_count": 79,
   "id": "c50ececd",
   "metadata": {},
   "outputs": [
    {
     "name": "stdout",
     "output_type": "stream",
     "text": [
      "ham\n",
      "spam\n",
      "spam\n"
     ]
    }
   ],
   "source": [
    "# 7. Identify the three blocks in this code:\n",
    "\n",
    "spam = 0\n",
    "if spam == 10:\n",
    "    print('eggs')\n",
    "if spam > 5:\n",
    "    print('bacon')\n",
    "else:             \n",
    "    print('ham')\n",
    "    print('spam')\n",
    "    print('spam')"
   ]
  },
  {
   "cell_type": "code",
   "execution_count": 84,
   "id": "2b4b08cf",
   "metadata": {},
   "outputs": [],
   "source": [
    "# Answer\n",
    "\n",
    "# First block\n",
    "if spam == 10:\n",
    "    print('eggs')"
   ]
  },
  {
   "cell_type": "code",
   "execution_count": null,
   "id": "daa41d6e",
   "metadata": {},
   "outputs": [],
   "source": [
    "# Second block\n",
    "if spam > 5:\n",
    "    print('bacon')"
   ]
  },
  {
   "cell_type": "code",
   "execution_count": null,
   "id": "5971fea2",
   "metadata": {},
   "outputs": [],
   "source": [
    "# Third block\n",
    "else:             \n",
    "    print('ham')\n",
    "    print('spam')\n",
    "    print('spam')"
   ]
  },
  {
   "cell_type": "code",
   "execution_count": 94,
   "id": "8257f228",
   "metadata": {},
   "outputs": [
    {
     "name": "stdout",
     "output_type": "stream",
     "text": [
      "Hello\n",
      "Howdy\n",
      "Greetings!\n"
     ]
    }
   ],
   "source": [
    "# 8. Write code that prints Hello if 1 is stored in spam, prints Howdy if 2 is stored in spam, and prints Greetings! if anything else is stored in spam.\n",
    "\n",
    "# Answer\n",
    "\n",
    "def spam_code(spam):\n",
    "    \n",
    "    if spam == 1:\n",
    "        print(\"Hello\")\n",
    "    elif spam == 2:\n",
    "        print(\"Howdy\")\n",
    "    else:\n",
    "        print(\"Greetings!\")\n",
    "\n",
    "spam_code(1)\n",
    "spam_code(2)\n",
    "spam_code(3)\n",
    "        "
   ]
  },
  {
   "cell_type": "code",
   "execution_count": null,
   "id": "be720827",
   "metadata": {},
   "outputs": [],
   "source": [
    "# 9.If your programme is stuck in an endless loop, what keys you’ll press?\n",
    "\n",
    "# Answer\n",
    "# ctrl+c to stop an endless loop."
   ]
  },
  {
   "cell_type": "code",
   "execution_count": null,
   "id": "64f57063",
   "metadata": {},
   "outputs": [],
   "source": [
    "# 10. How can you tell the difference between break and continue?\n",
    "\n",
    "# Answer\n",
    "# The break statement will terminate the loop whereas the continue statement will skip the current iteration and will keep going."
   ]
  },
  {
   "cell_type": "code",
   "execution_count": null,
   "id": "40d64862",
   "metadata": {},
   "outputs": [],
   "source": [
    "# 11. In a for loop, what is the difference between range(10), range(0, 10), and range(0, 10, 1)?\n",
    "\n",
    "# Answer\n",
    "# range(10) it will work the the numbers between 0-10 but excluding 10, so it will only operate on 0,1,2,3,4,5,6,7,8,9.\n",
    "# range(0,10) the starting of the loop is specified in this case but will still work on 0,1,2,3,4,5,6,7,8,9.\n",
    "# range(0,10,1) this works the same but the jump is specified, which is 1, so it will still work with 0,1,2,3,4,5,6,7,8,9."
   ]
  },
  {
   "cell_type": "code",
   "execution_count": 99,
   "id": "f01862d0",
   "metadata": {},
   "outputs": [
    {
     "name": "stdout",
     "output_type": "stream",
     "text": [
      "1\n",
      "2\n",
      "3\n",
      "4\n",
      "5\n",
      "6\n",
      "7\n",
      "8\n",
      "9\n",
      "10\n"
     ]
    }
   ],
   "source": [
    "# 12. Write a short program that prints the numbers 1 to 10 using a for loop. Then write an equivalent program that prints the numbers 1 to 10 using a while loop.\n",
    "\n",
    "# Answer\n",
    "# For loop\n",
    "\n",
    "for i in range(1,11):\n",
    "    print(i)"
   ]
  },
  {
   "cell_type": "code",
   "execution_count": 100,
   "id": "49422fef",
   "metadata": {},
   "outputs": [
    {
     "name": "stdout",
     "output_type": "stream",
     "text": [
      "1\n",
      "2\n",
      "3\n",
      "4\n",
      "5\n",
      "6\n",
      "7\n",
      "8\n",
      "9\n",
      "10\n"
     ]
    }
   ],
   "source": [
    "# While loop\n",
    "\n",
    "i = 1\n",
    "while i<=10:\n",
    "    print(i)\n",
    "    i += 1"
   ]
  },
  {
   "cell_type": "code",
   "execution_count": 102,
   "id": "34870cd8",
   "metadata": {},
   "outputs": [],
   "source": [
    "# 13. If you had a function named bacon() inside a module named spam, how would you call it after importing spam?\n",
    "\n",
    "# Answer\n",
    "# It can be called with:\n",
    "\n",
    "spam.bacon()"
   ]
  }
 ],
 "metadata": {
  "kernelspec": {
   "display_name": "Python 3 (ipykernel)",
   "language": "python",
   "name": "python3"
  },
  "language_info": {
   "codemirror_mode": {
    "name": "ipython",
    "version": 3
   },
   "file_extension": ".py",
   "mimetype": "text/x-python",
   "name": "python",
   "nbconvert_exporter": "python",
   "pygments_lexer": "ipython3",
   "version": "3.9.7"
  }
 },
 "nbformat": 4,
 "nbformat_minor": 5
}
