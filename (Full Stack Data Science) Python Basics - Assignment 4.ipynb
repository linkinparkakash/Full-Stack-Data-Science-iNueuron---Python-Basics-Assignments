{
 "cells": [
  {
   "cell_type": "code",
   "execution_count": 1,
   "id": "f75afe51",
   "metadata": {},
   "outputs": [
    {
     "data": {
      "text/plain": [
       "list"
      ]
     },
     "execution_count": 1,
     "metadata": {},
     "output_type": "execute_result"
    }
   ],
   "source": [
    "# 1. What exactly is []?\n",
    "\n",
    "# Answer\n",
    "\n",
    "# These sqaure brackets are used to make list data type, anything under them are elements and can be of different data types.\n",
    "# Example\n",
    "\n",
    "lst = [1,32,4.55,'data science',55+7j,True]\n",
    "type(lst)"
   ]
  },
  {
   "cell_type": "code",
   "execution_count": 10,
   "id": "2a4528f9",
   "metadata": {},
   "outputs": [
    {
     "data": {
      "text/plain": [
       "[2, 4, 'hello', 6, 8, 10]"
      ]
     },
     "execution_count": 10,
     "metadata": {},
     "output_type": "execute_result"
    }
   ],
   "source": [
    "# 2. In a list of values stored in a variable called spam, how would you assign the value 'hello' as the\n",
    "    # third value? (Assume [2, 4, 6, 8, 10] are in spam.)\n",
    "\n",
    "# Answer\n",
    "\n",
    "spam = [2,4,6,8,10]\n",
    "\n",
    "# We can use the 'insert' function with the respective index number in which the element is to be inserted.\n",
    "\n",
    "spam.insert((2),'hello')\n",
    "spam"
   ]
  },
  {
   "cell_type": "code",
   "execution_count": 12,
   "id": "f990246a",
   "metadata": {},
   "outputs": [
    {
     "data": {
      "text/plain": [
       "'d'"
      ]
     },
     "execution_count": 12,
     "metadata": {},
     "output_type": "execute_result"
    }
   ],
   "source": [
    "# Let's pretend the spam includes the list ['a','b','c','d'] for the next three queries.\n",
    "spam = ['a','b','c','d']\n",
    "\n",
    "# 3. What is the value of spam[int(int('3'* 2) / 11)]?\n",
    "\n",
    "spam[int(int('3'* 2) / 11)]\n",
    "\n",
    "# The output was 'd'."
   ]
  },
  {
   "cell_type": "code",
   "execution_count": 13,
   "id": "ecdffd4c",
   "metadata": {},
   "outputs": [
    {
     "data": {
      "text/plain": [
       "'d'"
      ]
     },
     "execution_count": 13,
     "metadata": {},
     "output_type": "execute_result"
    }
   ],
   "source": [
    "# What is the value of spam[-1]?\n",
    "\n",
    "spam[-1]"
   ]
  },
  {
   "cell_type": "code",
   "execution_count": 14,
   "id": "116c6293",
   "metadata": {},
   "outputs": [
    {
     "data": {
      "text/plain": [
       "['a', 'b']"
      ]
     },
     "execution_count": 14,
     "metadata": {},
     "output_type": "execute_result"
    }
   ],
   "source": [
    "# 5. What is the value of spam[:2]?\n",
    "\n",
    "spam[:2]"
   ]
  },
  {
   "cell_type": "code",
   "execution_count": 15,
   "id": "e8b7e718",
   "metadata": {},
   "outputs": [
    {
     "data": {
      "text/plain": [
       "1"
      ]
     },
     "execution_count": 15,
     "metadata": {},
     "output_type": "execute_result"
    }
   ],
   "source": [
    "# Let's pretend bacon has the list [3.14, 'cat', 11, 'cat' True] for the next three questions.\n",
    "\n",
    "# 6. What is the value of bacon.index('cat')?\n",
    "\n",
    "bacon = [3.14, 'cat', 11, 'cat', True]\n",
    "bacon.index('cat')"
   ]
  },
  {
   "cell_type": "code",
   "execution_count": 17,
   "id": "2f1e555e",
   "metadata": {},
   "outputs": [
    {
     "data": {
      "text/plain": [
       "[3.14, 'cat', 11, 'cat', True, 99, 99]"
      ]
     },
     "execution_count": 17,
     "metadata": {},
     "output_type": "execute_result"
    }
   ],
   "source": [
    "# 7. How does bacon.append(99) change the look of the list value in bacon?\n",
    "\n",
    "bacon.append(99)\n",
    "bacon"
   ]
  },
  {
   "cell_type": "code",
   "execution_count": 18,
   "id": "81281e2a",
   "metadata": {},
   "outputs": [
    {
     "data": {
      "text/plain": [
       "[3.14, 11, 'cat', True, 99, 99]"
      ]
     },
     "execution_count": 18,
     "metadata": {},
     "output_type": "execute_result"
    }
   ],
   "source": [
    "# 8. How does bacon.remove('cat') change the look of the list in bacon?\n",
    "\n",
    "bacon.remove('cat')\n",
    "bacon"
   ]
  },
  {
   "cell_type": "code",
   "execution_count": null,
   "id": "6c7dd108",
   "metadata": {},
   "outputs": [],
   "source": [
    "# 9. What are the list concatenation and list replication operators?\n",
    "\n",
    "# The list concatenation concates two or more lists into one list and list replication simply replicates the elements as instructed."
   ]
  },
  {
   "cell_type": "code",
   "execution_count": null,
   "id": "78662ce0",
   "metadata": {},
   "outputs": [],
   "source": [
    "# 10. What is difference between the list methods append() and insert()?\n",
    "\n",
    "# The append() operation appends the element at the end of the list whereas insert() can add in between anywhere in the list\n",
    "    # by mentioning the index."
   ]
  },
  {
   "cell_type": "code",
   "execution_count": null,
   "id": "bbf6d8e2",
   "metadata": {},
   "outputs": [],
   "source": [
    "# 11. What are the two methods for removing items from a list?\n",
    "\n",
    "# The two methods are \n",
    "# 1. remove()\n",
    "# 2. pop()"
   ]
  },
  {
   "cell_type": "code",
   "execution_count": null,
   "id": "5b07dec8",
   "metadata": {},
   "outputs": [],
   "source": [
    "# 12. Describe how list values and string values are identical.\n",
    "\n",
    "# Both strings and lists have sequential order of elements and characters."
   ]
  },
  {
   "cell_type": "code",
   "execution_count": 23,
   "id": "15f5c133",
   "metadata": {},
   "outputs": [
    {
     "data": {
      "text/plain": [
       "(tuple, list)"
      ]
     },
     "execution_count": 23,
     "metadata": {},
     "output_type": "execute_result"
    }
   ],
   "source": [
    "# 13. What's the difference between tuples and lists?\n",
    "\n",
    "# Tuples are immutable objects the lists are mutable.\n",
    "# Tuples are enclosed in parentheses whereas lists are enclosed in square brackets\n",
    "\n",
    "tpl = (1,2,3,5,5,58,6)\n",
    "lst1 = [1,5,5,586,53,65,5]\n",
    "m = type(tpl),type(lst1)\n",
    "m"
   ]
  },
  {
   "cell_type": "code",
   "execution_count": 26,
   "id": "f46f63b3",
   "metadata": {},
   "outputs": [
    {
     "data": {
      "text/plain": [
       "tuple"
      ]
     },
     "execution_count": 26,
     "metadata": {},
     "output_type": "execute_result"
    }
   ],
   "source": [
    "# 14. How do you type a tuple value that only contains the integer 42?\n",
    "\n",
    "tpl1 = (42,)\n",
    "type(tpl1)\n",
    "\n",
    "# It is done by adding a coma after the integer and encapsulating it in parentheses."
   ]
  },
  {
   "cell_type": "code",
   "execution_count": null,
   "id": "0a34a9c3",
   "metadata": {},
   "outputs": [],
   "source": [
    "# 15. How do you get a list value's tuple form? How do you get a tuple value's list form?\n",
    "\n",
    "# We can get it by:\n",
    "# tuple()\n",
    "# list()\n"
   ]
  },
  {
   "cell_type": "code",
   "execution_count": null,
   "id": "f4d7d6f9",
   "metadata": {},
   "outputs": [],
   "source": [
    "# 16. Variables that \"contain\"; list values are not necessarily lists themselves. Instead, what do they contain?\n",
    "\n",
    "# They contain references of the list values in them."
   ]
  },
  {
   "cell_type": "code",
   "execution_count": null,
   "id": "6c28567a",
   "metadata": {},
   "outputs": [],
   "source": [
    "# 17. How do you distinguish between copy.copy() and copy.deepcopy()?\n",
    "\n",
    "# copy.copy() does a shallow copy of the list where original object is stored and only the reference address is finally copied.\n",
    "# copy.deepcopy() is used for deep copying the list where the original object and the repetitive copies both are stored."
   ]
  }
 ],
 "metadata": {
  "kernelspec": {
   "display_name": "Python 3 (ipykernel)",
   "language": "python",
   "name": "python3"
  },
  "language_info": {
   "codemirror_mode": {
    "name": "ipython",
    "version": 3
   },
   "file_extension": ".py",
   "mimetype": "text/x-python",
   "name": "python",
   "nbconvert_exporter": "python",
   "pygments_lexer": "ipython3",
   "version": "3.9.7"
  }
 },
 "nbformat": 4,
 "nbformat_minor": 5
}
