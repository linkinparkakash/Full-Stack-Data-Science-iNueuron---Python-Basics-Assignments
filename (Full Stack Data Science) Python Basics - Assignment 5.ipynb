{
 "cells": [
  {
   "cell_type": "code",
   "execution_count": 1,
   "id": "c9698a86",
   "metadata": {},
   "outputs": [],
   "source": [
    "# 1. What does an empty dictionary's code look like?\n",
    "\n",
    "# Answer\n",
    "\n",
    "# {}"
   ]
  },
  {
   "cell_type": "code",
   "execution_count": 6,
   "id": "c8bdbca4",
   "metadata": {},
   "outputs": [
    {
     "data": {
      "text/plain": [
       "{'foo': 42}"
      ]
     },
     "execution_count": 6,
     "metadata": {},
     "output_type": "execute_result"
    }
   ],
   "source": [
    "# 2. What is the value of a dictionary value with the key 'foo' and the value 42?\n",
    "\n",
    "# Answer\n",
    "\n",
    "d = {'foo' : 42}\n",
    "d"
   ]
  },
  {
   "cell_type": "code",
   "execution_count": 8,
   "id": "1e949ac4",
   "metadata": {},
   "outputs": [
    {
     "data": {
      "text/plain": [
       "({'ad': 34, 'asdd': 65}, [54, 58, 32, 8, 5, 8])"
      ]
     },
     "execution_count": 8,
     "metadata": {},
     "output_type": "execute_result"
    }
   ],
   "source": [
    "# 3. What is the most significant distinction between a dictionary and a list?\n",
    "\n",
    "# Answer\n",
    "\n",
    "# The dictionary contains unordered elements in key-value pair whereas list has raw elements and are ordered.\n",
    "    # Dictionary is encapsulated in curly braces whereas list is in square brackets.\n",
    "\n",
    "# Example\n",
    "\n",
    "d1 = {'ad':34,'asdd':65}\n",
    "l = [54,58,32,8,5,8]\n",
    "d1, l"
   ]
  },
  {
   "cell_type": "code",
   "execution_count": 10,
   "id": "0a182cb1",
   "metadata": {},
   "outputs": [
    {
     "ename": "KeyError",
     "evalue": "'foo'",
     "output_type": "error",
     "traceback": [
      "\u001b[1;31m---------------------------------------------------------------------------\u001b[0m",
      "\u001b[1;31mKeyError\u001b[0m                                  Traceback (most recent call last)",
      "\u001b[1;32m~\\AppData\\Local\\Temp/ipykernel_8276/3608284177.py\u001b[0m in \u001b[0;36m<module>\u001b[1;34m\u001b[0m\n\u001b[0;32m      4\u001b[0m \u001b[1;33m\u001b[0m\u001b[0m\n\u001b[0;32m      5\u001b[0m \u001b[0mspam\u001b[0m \u001b[1;33m=\u001b[0m \u001b[1;33m{\u001b[0m\u001b[1;34m'bar'\u001b[0m\u001b[1;33m:\u001b[0m\u001b[1;36m100\u001b[0m\u001b[1;33m}\u001b[0m\u001b[1;33m\u001b[0m\u001b[1;33m\u001b[0m\u001b[0m\n\u001b[1;32m----> 6\u001b[1;33m \u001b[0mspam\u001b[0m\u001b[1;33m[\u001b[0m\u001b[1;34m'foo'\u001b[0m\u001b[1;33m]\u001b[0m\u001b[1;33m\u001b[0m\u001b[1;33m\u001b[0m\u001b[0m\n\u001b[0m\u001b[0;32m      7\u001b[0m \u001b[1;33m\u001b[0m\u001b[0m\n\u001b[0;32m      8\u001b[0m \u001b[1;31m# We will have a key error.\u001b[0m\u001b[1;33m\u001b[0m\u001b[1;33m\u001b[0m\u001b[0m\n",
      "\u001b[1;31mKeyError\u001b[0m: 'foo'"
     ]
    }
   ],
   "source": [
    "# 4. What happens if you try to access spam['foo'] if spam is {'bar': 100}?\n",
    "\n",
    "# Answer\n",
    "\n",
    "spam = {'bar':100}\n",
    "spam['foo']\n",
    "\n",
    "# We will have a key error."
   ]
  },
  {
   "cell_type": "code",
   "execution_count": 16,
   "id": "1bb3d536",
   "metadata": {},
   "outputs": [
    {
     "data": {
      "text/plain": [
       "dict_keys(['cat'])"
      ]
     },
     "execution_count": 16,
     "metadata": {},
     "output_type": "execute_result"
    }
   ],
   "source": [
    "# 5. If a dictionary is stored in spam, what is the difference between the expressions 'cat' in spam and 'cat' in spam.keys()?\n",
    "\n",
    "# Answer\n",
    "\n",
    "# In the both cases, it will check whether this key is present in the dictionary or not.\n",
    "\n",
    "spam  = {'cat':10}\n",
    "spam.keys()"
   ]
  },
  {
   "cell_type": "code",
   "execution_count": 20,
   "id": "b76f4a7e",
   "metadata": {},
   "outputs": [
    {
     "data": {
      "text/plain": [
       "dict_values(['cat'])"
      ]
     },
     "execution_count": 20,
     "metadata": {},
     "output_type": "execute_result"
    }
   ],
   "source": [
    "# 6. If a dictionary is stored in spam, what is the difference between the expressions 'cat' in spam and 'cat' in spam.values()?\n",
    "\n",
    "# Answer\n",
    "\n",
    "# 'cat' expression will look for a key named 'cat' whereas spam.values() will look for the same but in values, not as a key.\n",
    "\n",
    "spam = {10:'cat'}\n",
    "spam.values()"
   ]
  },
  {
   "cell_type": "code",
   "execution_count": 25,
   "id": "52b49162",
   "metadata": {},
   "outputs": [
    {
     "ename": "IndentationError",
     "evalue": "expected an indented block (Temp/ipykernel_8276/3756110480.py, line 4)",
     "output_type": "error",
     "traceback": [
      "\u001b[1;36m  File \u001b[1;32m\"C:\\Users\\HP\\AppData\\Local\\Temp/ipykernel_8276/3756110480.py\"\u001b[1;36m, line \u001b[1;32m4\u001b[0m\n\u001b[1;33m    spam['color'] = 'black'\u001b[0m\n\u001b[1;37m    ^\u001b[0m\n\u001b[1;31mIndentationError\u001b[0m\u001b[1;31m:\u001b[0m expected an indented block\n"
     ]
    }
   ],
   "source": [
    "# 7. What is a shortcut for the following code?\n",
    "\n",
    "if 'color' not in spam:\n",
    "spam['color'] = 'black'\n",
    "\n",
    "# Answer\n",
    "\n",
    "spam.setdefault('color':'black')"
   ]
  },
  {
   "cell_type": "code",
   "execution_count": 36,
   "id": "2685f064",
   "metadata": {},
   "outputs": [
    {
     "name": "stdout",
     "output_type": "stream",
     "text": [
      "{45: 'ads', 'fd0': 56, 'gf': 76}\n"
     ]
    }
   ],
   "source": [
    "# 8. How do you \"pretty print\" dictionary values using which module and function?\n",
    "\n",
    "# Answer\n",
    "\n",
    "import pprint\n",
    "\n",
    "d2 = {45:'ads','fd0':56,'gf':76}\n",
    "pprint.pprint(d2)"
   ]
  }
 ],
 "metadata": {
  "kernelspec": {
   "display_name": "Python 3 (ipykernel)",
   "language": "python",
   "name": "python3"
  },
  "language_info": {
   "codemirror_mode": {
    "name": "ipython",
    "version": 3
   },
   "file_extension": ".py",
   "mimetype": "text/x-python",
   "name": "python",
   "nbconvert_exporter": "python",
   "pygments_lexer": "ipython3",
   "version": "3.9.7"
  }
 },
 "nbformat": 4,
 "nbformat_minor": 5
}
